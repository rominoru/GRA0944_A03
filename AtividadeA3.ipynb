{
 "cells": [
  {
   "cell_type": "markdown",
   "metadata": {},
   "source": [
    "Universidade Anhembi Morumbi  \n",
    "Curso Big Data e Inteligência Analítica  \n",
    "Disciplina GRA0944 PROGRAMAÇÃO AVANÇADA EM BIG DATA  \n",
    "**Atividade A3**\n",
    "\n",
    "### Resolução"
   ]
  },
  {
   "cell_type": "code",
   "execution_count": 1,
   "metadata": {},
   "outputs": [],
   "source": [
    "# importar biblioteca json\n",
    "import json"
   ]
  },
  {
   "cell_type": "code",
   "execution_count": 8,
   "metadata": {},
   "outputs": [],
   "source": [
    "# carregar o arquivo .txt e guardá-lo uma variável\n",
    "with open('textodesafio.txt', 'r') as file:\n",
    "    json_dict = json.load(file)"
   ]
  },
  {
   "cell_type": "code",
   "execution_count": 43,
   "metadata": {},
   "outputs": [],
   "source": [
    "# uma das soluções possíveis é por meio da função json.dump(), conforme está sugerido no enunciado\n",
    "# passamos como argumentos o dicionário json original, o arquivo de saída e o nível de indentação desejado (argumento indent)\n",
    "# por meio dessa função, atribuímos uma indentação ao json e gravamos o resultado em um arquivo de texto\n",
    "with open('jsonhierarquizado.txt', '+w') as file:\n",
    "    json.dump(json_dict, file, indent=4)"
   ]
  },
  {
   "cell_type": "code",
   "execution_count": 44,
   "metadata": {},
   "outputs": [
    {
     "name": "stdout",
     "output_type": "stream",
     "text": [
      "{\n",
      "    \"menu\": {\n",
      "        \"header\": \"SVG Viewer\",\n",
      "        \"items\": [\n",
      "            {\n",
      "                \"id\": \"Open\"\n",
      "            },\n",
      "            {\n",
      "                \"id\": \"OpenNew\",\n",
      "                \"label\": \"Open New\"\n",
      "            },\n",
      "            null,\n",
      "            {\n",
      "                \"id\": \"ZoomIn\",\n",
      "                \"label\": \"Zoom In\"\n",
      "            },\n",
      "            {\n",
      "                \"id\": \"ZoomOut\",\n",
      "                \"label\": \"Zoom Out\"\n",
      "            },\n",
      "            {\n",
      "                \"id\": \"OriginalView\",\n",
      "                \"label\": \"Original View\"\n",
      "            },\n",
      "            null,\n",
      "            {\n",
      "                \"id\": \"Quality\"\n",
      "            },\n",
      "            {\n",
      "                \"id\": \"Pause\"\n",
      "            },\n",
      "            {\n",
      "                \"id\": \"Mute\"\n",
      "            },\n",
      "            null,\n",
      "            {\n",
      "                \"id\": \"Find\",\n",
      "                \"label\": \"Find...\"\n",
      "            },\n",
      "            {\n",
      "                \"id\": \"FindAgain\",\n",
      "                \"label\": \"Find Again\"\n",
      "            },\n",
      "            {\n",
      "                \"id\": \"Copy\"\n",
      "            },\n",
      "            {\n",
      "                \"id\": \"CopyAgain\",\n",
      "                \"label\": \"Copy Again\"\n",
      "            },\n",
      "            {\n",
      "                \"id\": \"CopySVG\",\n",
      "                \"label\": \"Copy SVG\"\n",
      "            },\n",
      "            {\n",
      "                \"id\": \"ViewSVG\",\n",
      "                \"label\": \"View SVG\"\n",
      "            },\n",
      "            {\n",
      "                \"id\": \"ViewSource\",\n",
      "                \"label\": \"View Source\"\n",
      "            },\n",
      "            {\n",
      "                \"id\": \"SaveAs\",\n",
      "                \"label\": \"Save As\"\n",
      "            },\n",
      "            null,\n",
      "            {\n",
      "                \"id\": \"Help\"\n",
      "            },\n",
      "            {\n",
      "                \"id\": \"About\",\n",
      "                \"label\": \"About Adobe CVG Viewer...\"\n",
      "            }\n",
      "        ]\n",
      "    }\n",
      "}\n"
     ]
    }
   ],
   "source": [
    "# a estrutura json resultante é a mesma que pode ser visualizada por meio da função json.dumps()\n",
    "print(json.dumps(json_dict, indent=4))"
   ]
  },
  {
   "cell_type": "code",
   "execution_count": 60,
   "metadata": {},
   "outputs": [
    {
     "name": "stdout",
     "output_type": "stream",
     "text": [
      "menu\n",
      "   header\n",
      "     SVG Viewer\n",
      "   items\n",
      "     Open\n",
      "     Open New\n",
      "     ---------\n",
      "     Zoom In\n",
      "     Zoom Out\n",
      "     Original View\n",
      "     ---------\n",
      "     Quality\n",
      "     Pause\n",
      "     Mute\n",
      "     ---------\n",
      "     Find...\n",
      "     Find Again\n",
      "     Copy\n",
      "     Copy Again\n",
      "     Copy SVG\n",
      "     View SVG\n",
      "     View Source\n",
      "     Save As\n",
      "     ---------\n",
      "     Help\n",
      "     About Adobe CVG Viewer...\n"
     ]
    }
   ],
   "source": [
    "# para visualizarmos os itens do dicionário no formato proposto pelo enunciado, sem os símbolos de chaves, colchetes etc,\n",
    "# podemos utilizar o seguinte código, que percorre por iteração todos os itens do dicionário json e retornar apenas os\n",
    "# valores que cumprem com os requisitos das condicionantes\n",
    "for k1, v1 in json_dict.items():\n",
    "    print(k1)\n",
    "    for k2, v2 in v1.items():\n",
    "        print('  ', k2)\n",
    "        if type(v2) == str:\n",
    "            print('    ', v2)\n",
    "        elif type(v2) == list:\n",
    "            for item in v2:\n",
    "                if type(item) == dict:\n",
    "                    try:\n",
    "                        print('    ', item['label'])\n",
    "                    except:\n",
    "                        print('    ', item['id'])\n",
    "                elif item == None:\n",
    "                    print('     ---------')"
   ]
  },
  {
   "cell_type": "markdown",
   "metadata": {},
   "source": [
    "### Enunciado\n",
    "O desenvolvimento de aplicações para análise de Big Datas não é tão simples, entretanto, algumas tecnologias de desenvolvimento/programação podem reduzir consideravelmente a complexidade dessa atividade. A linguagem de programação Python é uma das tecnologias que oferece todo suporte necessário para que o desenvolvimento de aplicações que realizam coleta e manipulação de dados para Big Data seja o mais fácil e produtivo possível. A linguagem Python é atendida com bibliotecas que permitem trabalhar com matrizes, arquivos de texto, de Excel, cvs, JSON, bancos de dados e outros tipos de arquivos de dados.\n",
    "\n",
    "Para desenvolver uma aplicação que seja capaz de realizar análise de dados, deve-se, antes, ser capaz de desenvolver aplicações mais simples, aplicações que deverão fazer coleta e manipulação de dados. Esse é o desafio que a empresa na qual você pleiteia uma vaga de emprego destinou a você. Para conquistar sua vaga de programador de aplicações de data science, você deve ser capaz de cumprir um desafio:\n",
    "\n",
    "Primeiramente crie, em seu computador, um arquivo-texto com o seguinte conteúdo:\n",
    "\n",
    "```{\"menu\": {\"header\": \"SVG Viewer\", \"items\": [ {\"id\": \"Open\"}, {\"id\": \"OpenNew\", \"label\": \"Open New\"},null,{\"id\": \"ZoomIn\", \"label\": \"Zoom In\"},{\"id\": \"ZoomOut\", \"label\": \"Zoom Out\"},{\"id\": \"OriginalView\", \"label\": \"Original View\"},null,{\"id\": \"Quality\"},{\"id\": \"Pause\"},{\"id\": \"Mute\"},null,{\"id\": \"Find\", \"label\": \"Find...\"},{\"id\": \"FindAgain\", \"label\": \"Find Again\"},{\"id\": \"Copy\"},{\"id\": \"CopyAgain\", \"label\": \"Copy Again\"},{\"id\": \"CopySVG\", \"label\": \"Copy SVG\"},{\"id\": \"ViewSVG\", \"label\": \"View SVG\"},{\"id\": \"ViewSource\", \"label\": \"View Source\"},{\"id\": \"SaveAs\", \"label\": \"Save As\"},null,{\"id\": \"Help\"},{\"id\": \"About\", \"label\": \"About Adobe CVG Viewer...\"}]}}```\n",
    "\n",
    "Salve o arquivo como “textodesafio.txt”. O conteúdo é uma estrutura JSON.\n",
    "\n",
    "Recupere todo esse conteúdo para dentro de uma estrutura JSON que utiliza a linguagem Python.\n",
    "\n",
    "Após carregar os dados, apresente-os de forma hierárquica, como apresentado abaixo:\n",
    "\n",
    "menu  \n",
    "&emsp;header  \n",
    "&emsp;items  \n",
    "&emsp;&emsp;Open  \n",
    "&emsp;&emsp;Open New  \n",
    "&emsp;&emsp;Zoom In\n",
    "\n",
    "e assim por diante. Nada complexo. A intenção é simplesmente avaliar sua capacidade de realizar manipulação de dados utilizando arquivos de texto e estruturas JSON.\n",
    "\n",
    "A utilização da função ```json.dump()```, com alguns argumentos, será um diferencial"
   ]
  }
 ],
 "metadata": {
  "kernelspec": {
   "display_name": "Python 3.10.7 64-bit (microsoft store)",
   "language": "python",
   "name": "python3"
  },
  "language_info": {
   "codemirror_mode": {
    "name": "ipython",
    "version": 3
   },
   "file_extension": ".py",
   "mimetype": "text/x-python",
   "name": "python",
   "nbconvert_exporter": "python",
   "pygments_lexer": "ipython3",
   "version": "3.10.7"
  },
  "orig_nbformat": 4,
  "vscode": {
   "interpreter": {
    "hash": "d8c2dbe515bb1e132c806da356eed840d95260b43840da4c22c4a5911b708884"
   }
  }
 },
 "nbformat": 4,
 "nbformat_minor": 2
}
